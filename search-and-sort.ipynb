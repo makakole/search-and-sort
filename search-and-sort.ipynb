{
 "cells": [
  {
   "cell_type": "code",
   "execution_count": 156,
   "metadata": {},
   "outputs": [],
   "source": [
    "import numpy as np\n",
    "import random"
   ]
  },
  {
   "cell_type": "markdown",
   "metadata": {},
   "source": [
    "**1. Use the following sorted list of words to perform a binary search:**"
   ]
  },
  {
   "cell_type": "code",
   "execution_count": 126,
   "metadata": {},
   "outputs": [],
   "source": [
    "list = ['babka', 'baklava', 'cheesecake', 'cupcake', 'danish',\n",
    "        'eclair', 'funnelcake', 'kringle', 'lamington', 'profiterole',\n",
    "        'sopaipilla','strudel', 'tiramisu', 'torte', 'turnover']\n",
    "\n",
    "def find(L, target):\n",
    "    start = 0\n",
    "    end = len(L) - 1\n",
    "    sequence = []\n",
    "    print('Middle value sequence for ' +str(target))\n",
    "    while start <= end:\n",
    "        middle = (start + end)// 2\n",
    "        midpoint = L[middle]\n",
    "        \n",
    "        print('[' + str(middle) + '] ' + str(midpoint))\n",
    "        if midpoint > target:\n",
    "            end = middle - 1\n",
    "        elif midpoint < target:\n",
    "            start = middle + 1\n",
    "        else:\n",
    "            return sequence\n",
    "    return "
   ]
  },
  {
   "cell_type": "markdown",
   "metadata": {},
   "source": [
    "a) \tWhat sequence of 'middle' values are compared to the target when performing a binary search with target doughnut?"
   ]
  },
  {
   "cell_type": "code",
   "execution_count": 127,
   "metadata": {},
   "outputs": [
    {
     "name": "stdout",
     "output_type": "stream",
     "text": [
      "Middle value sequence for doughnut\n",
      "[7] kringle\n",
      "[3] cupcake\n",
      "[5] eclair\n",
      "[4] danish\n",
      "None\n"
     ]
    }
   ],
   "source": [
    "print(find(list, \"doughnut\"))"
   ]
  },
  {
   "cell_type": "markdown",
   "metadata": {},
   "source": [
    "b)\tWhat sequence of 'middle' values are compared to the target when performing a binary search with target tiramisu?"
   ]
  },
  {
   "cell_type": "code",
   "execution_count": 128,
   "metadata": {},
   "outputs": [
    {
     "name": "stdout",
     "output_type": "stream",
     "text": [
      "Middle value sequence for tiramisu\n",
      "[7] kringle\n",
      "[11] strudel\n",
      "[13] torte\n",
      "[12] tiramisu\n",
      "[]\n"
     ]
    }
   ],
   "source": [
    "print(find(list, \"tiramisu\"))"
   ]
  },
  {
   "cell_type": "markdown",
   "metadata": {},
   "source": [
    "**2. For the list below,**"
   ]
  },
  {
   "cell_type": "code",
   "execution_count": 129,
   "metadata": {},
   "outputs": [],
   "source": [
    "lis = [9, 20, 6, 10, 14, 8, 60, 11]\n",
    "ls = [9, 20, 6, 10, 14, 8, 60, 11]\n",
    "\n",
    "def b_sort(nums):\n",
    "    for i in range(len(nums) - 1, 0, -1):\n",
    "        for j in range(i):\n",
    "            if nums[j] > nums[j + 1]:\n",
    "                temp = nums[j]\n",
    "                nums[j] = nums[j + 1]\n",
    "                nums[j + 1] = temp\n",
    "                print('Swapping smaller value [' + str(nums[j]) + '] with bigger value [' + str(temp) + ']')\n",
    "                \n",
    "def sel_sort(nums):\n",
    "    for i in range(7):\n",
    "        minpos = i\n",
    "        for j in range(i,8):\n",
    "            if nums[j] < nums[minpos]:\n",
    "                minpos = j\n",
    "                \n",
    "        temp = nums[i]\n",
    "        nums[i] = nums[minpos]\n",
    "        nums[minpos] = temp\n",
    "        \n",
    "        print(nums)"
   ]
  },
  {
   "cell_type": "markdown",
   "metadata": {},
   "source": [
    "a) show the series of steps taken by the Bubble Sort algorithm while sorting this list."
   ]
  },
  {
   "cell_type": "code",
   "execution_count": 130,
   "metadata": {},
   "outputs": [
    {
     "name": "stdout",
     "output_type": "stream",
     "text": [
      "Swapping smaller value [6] with bigger value [20]\n",
      "Swapping smaller value [10] with bigger value [20]\n",
      "Swapping smaller value [14] with bigger value [20]\n",
      "Swapping smaller value [8] with bigger value [20]\n",
      "Swapping smaller value [11] with bigger value [60]\n",
      "Swapping smaller value [6] with bigger value [9]\n",
      "Swapping smaller value [8] with bigger value [14]\n",
      "Swapping smaller value [11] with bigger value [20]\n",
      "Swapping smaller value [8] with bigger value [10]\n",
      "Swapping smaller value [11] with bigger value [14]\n",
      "Swapping smaller value [8] with bigger value [9]\n",
      "[6, 8, 9, 10, 11, 14, 20, 60]\n"
     ]
    }
   ],
   "source": [
    "b_sort(lis)\n",
    "print(lis)"
   ]
  },
  {
   "cell_type": "markdown",
   "metadata": {},
   "source": [
    "b) show the series of steps taken by the Selection Sort algorithm while sorting this list."
   ]
  },
  {
   "cell_type": "code",
   "execution_count": 131,
   "metadata": {},
   "outputs": [
    {
     "name": "stdout",
     "output_type": "stream",
     "text": [
      "[6, 20, 9, 10, 14, 8, 60, 11]\n",
      "[6, 8, 9, 10, 14, 20, 60, 11]\n",
      "[6, 8, 9, 10, 14, 20, 60, 11]\n",
      "[6, 8, 9, 10, 14, 20, 60, 11]\n",
      "[6, 8, 9, 10, 11, 20, 60, 14]\n",
      "[6, 8, 9, 10, 11, 14, 60, 20]\n",
      "[6, 8, 9, 10, 11, 14, 20, 60]\n"
     ]
    }
   ],
   "source": [
    "sel_sort(ls)"
   ]
  },
  {
   "cell_type": "markdown",
   "metadata": {},
   "source": [
    "**3. The three search algorithms have varying run times, with the unsorted sequential search being the least efficient and the binary search being the most efficient (among the three).**"
   ]
  },
  {
   "cell_type": "markdown",
   "metadata": {},
   "source": [
    "a) Modify the code for the seq_search.py (for unsorted lists), seq_search_ordered.py and binary_search.py to count the number of elements checked during the search."
   ]
  },
  {
   "cell_type": "code",
   "execution_count": 132,
   "metadata": {},
   "outputs": [
    {
     "name": "stdout",
     "output_type": "stream",
     "text": [
      "(True, 'Number of elements checked = 4')\n",
      "(False, 'Number of elements checked = 7')\n"
     ]
    }
   ],
   "source": [
    "# Seq Search Modificatoion\n",
    "\n",
    "def linear_search(values, search_for):\n",
    "    search_at = 0\n",
    "    search_res = False\n",
    "    count = 0\n",
    "\n",
    "# Match the value with each data element\n",
    "    while search_at < len(values) and search_res is False:\n",
    "        if values[search_at] == search_for:\n",
    "            search_res = True\n",
    "        else:\n",
    "            search_at = search_at + 1\n",
    "        count += 1\n",
    "\n",
    "    return search_res, \"Number of elements checked = \" + str(count)\n",
    "\n",
    "list = [64, 34, 25, 12, 22, 11, 90]\n",
    "print(linear_search(list, 12)) #should return True\n",
    "print(linear_search(list, 91)) #should return False"
   ]
  },
  {
   "cell_type": "code",
   "execution_count": 133,
   "metadata": {},
   "outputs": [
    {
     "name": "stdout",
     "output_type": "stream",
     "text": [
      "(False, 'Number of elements checked = 4')\n",
      "(True, 'Number of elements checked = 5')\n"
     ]
    }
   ],
   "source": [
    "#ordered Sequential Search\n",
    "def orderedSequentialSearch(alist, item):\n",
    "    pos = 0\n",
    "    found = False\n",
    "    stop = False\n",
    "    count = 0\n",
    "\n",
    "    while pos < len(alist) and not found and not stop:\n",
    "        if alist[pos] == item:\n",
    "            found = True\n",
    "        else:\n",
    "            if alist[pos] > item:\n",
    "                stop = True\n",
    "            else:\n",
    "                pos = pos+1\n",
    "        count += 1\n",
    "\n",
    "    return found, \"Number of elements checked = \" + str(count)\n",
    "\n",
    "testlist = [0, 1, 2, 8, 13, 17, 19, 32, 42,]\n",
    "print(orderedSequentialSearch(testlist, 3)) #return False\n",
    "print(orderedSequentialSearch(testlist, 13)) #return True"
   ]
  },
  {
   "cell_type": "code",
   "execution_count": 134,
   "metadata": {},
   "outputs": [
    {
     "name": "stdout",
     "output_type": "stream",
     "text": [
      "(5, 'Number of elements checked = 3')\n",
      "('Not in list', 'Number of elements checked = 3')\n"
     ]
    }
   ],
   "source": [
    "#Binary Search Modification\n",
    "def bsearch(list, val):\n",
    "\n",
    "    list_size = len(list) - 1\n",
    "\n",
    "    idx0 = 0\n",
    "    idxn = list_size\n",
    "    count = 0\n",
    "# Find the middle most value\n",
    "\n",
    "    while idx0 <= idxn:\n",
    "        midval = (idx0 + idxn)// 2\n",
    "        count += 1\n",
    "\n",
    "        if list[midval] == val:\n",
    "            return midval, \"Number of elements checked = \" + str(count)\n",
    "\n",
    "    # Compare the value the middle most value\n",
    "        if val > list[midval]:\n",
    "            idx0 = midval + 1\n",
    "        else:\n",
    "            idxn = midval - 1\n",
    "\n",
    "    if idx0 > idxn:\n",
    "        return \"Not in list\", \"Number of elements checked = \" + str(count)\n",
    "    \n",
    "    \n",
    "# Initialize the sorted list\n",
    "list = [2,7,19,34,53,72]\n",
    "\n",
    "# Print the search result\n",
    "print(bsearch(list,72)) #should return index 5\n",
    "print(bsearch(list,11)) #should return Not in list"
   ]
  },
  {
   "cell_type": "markdown",
   "metadata": {},
   "source": [
    "b) Using your instrumented code for the three search algorithms, perform the following searches, and report the number of elements checked by each algorithm for each search (i.e. you will report nine results in total - for each of the 3 searches below, you will report the results from the 3 different search algorithms)."
   ]
  },
  {
   "cell_type": "markdown",
   "metadata": {},
   "source": [
    "i. Search for the value 9 in the following array:  \n",
    "    \tA = [6, 19, -3, 5, 12, 7, 21, -8, 25, 10, 0, 28, -6, 1, 33, 18, 9, 2, -13, 43]"
   ]
  },
  {
   "cell_type": "code",
   "execution_count": 135,
   "metadata": {},
   "outputs": [
    {
     "name": "stdout",
     "output_type": "stream",
     "text": [
      "1. Binary Search:\n",
      "('Not in list', 'Number of elements checked = 4')\n",
      "2. ordered Sequential Search:\n",
      "(False, 'Number of elements checked = 2')\n",
      "3. Sequential Search:\n",
      "(True, 'Number of elements checked = 17')\n"
     ]
    }
   ],
   "source": [
    "#Binary Search\n",
    "A = [6, 19, -3, 5, 12, 7, 21, -8, 25, 10, 0, 28, -6, 1, 33, 18, 9, 2, -13, 43]\n",
    "print(\"1. Binary Search:\")\n",
    "print(bsearch(A, 9))\n",
    "\n",
    "#ordered Sequential Search\n",
    "A = [6, 19, -3, 5, 12, 7, 21, -8, 25, 10, 0, 28, -6, 1, 33, 18, 9, 2, -13, 43]\n",
    "print(\"2. ordered Sequential Search:\")\n",
    "print(orderedSequentialSearch(A, 9))\n",
    "\n",
    "#Sequential Search\n",
    "A = [6, 19, -3, 5, 12, 7, 21, -8, 25, 10, 0, 28, -6, 1, 33, 18, 9, 2, -13, 43]\n",
    "print(\"3. Sequential Search:\")\n",
    "print(linear_search(A, 9))"
   ]
  },
  {
   "cell_type": "markdown",
   "metadata": {},
   "source": [
    "ii.  Search for the value 11 in the following array:  \n",
    "    A = [6, 19, -3, 5, 12, 7, 21, -8, 25, 10, 0, 28, -6, 1, 33, 18, 9, 2, -13, 43]"
   ]
  },
  {
   "cell_type": "code",
   "execution_count": 136,
   "metadata": {},
   "outputs": [
    {
     "name": "stdout",
     "output_type": "stream",
     "text": [
      "1. Binary Search:\n",
      "('Not in list', 'Number of elements checked = 4')\n",
      "2. ordered Sequential Search:\n",
      "(False, 'Number of elements checked = 2')\n",
      "3. Sequential Search:\n",
      "(False, 'Number of elements checked = 20')\n"
     ]
    }
   ],
   "source": [
    "#Binary Search\n",
    "A = [6, 19, -3, 5, 12, 7, 21, -8, 25, 10, 0, 28, -6, 1, 33, 18, 9, 2, -13, 43]\n",
    "print(\"1. Binary Search:\")\n",
    "print(bsearch(A, 11))\n",
    "\n",
    "#ordered Sequential Search\n",
    "A = [6, 19, -3, 5, 12, 7, 21, -8, 25, 10, 0, 28, -6, 1, 33, 18, 9, 2, -13, 43]\n",
    "print(\"2. ordered Sequential Search:\")\n",
    "print(orderedSequentialSearch(A, 11))\n",
    "\n",
    "#Sequential Search\n",
    "A = [6, 19, -3, 5, 12, 7, 21, -8, 25, 10, 0, 28, -6, 1, 33, 18, 9, 2, -13, 43]\n",
    "print(\"3. Sequential Search:\")\n",
    "print(linear_search(A, 11))"
   ]
  },
  {
   "cell_type": "markdown",
   "metadata": {},
   "source": [
    "iii. Search for the value 11 in the following array:  \n",
    " A = [6, 19, -3, 5, 12, 7, 21, -8, 25, 10, 0, 28, -6, 1, 33, 18, 9, 2, -13, 43, -15, 4, 22, 38, -5, 13, 23, -11, 29, -20, 41, 31, -23, 35, 40, 14, 8, -18, 16, 36]"
   ]
  },
  {
   "cell_type": "code",
   "execution_count": 137,
   "metadata": {},
   "outputs": [
    {
     "name": "stdout",
     "output_type": "stream",
     "text": [
      "1. Binary Search:\n",
      "('Not in list', 'Number of elements checked = 5')\n",
      "2. ordered Sequential Search:\n",
      "(False, 'Number of elements checked = 2')\n",
      "3. Sequential Search:\n",
      "(False, 'Number of elements checked = 40')\n"
     ]
    }
   ],
   "source": [
    "#Binary Search\n",
    "A = [6, 19, -3, 5, 12, 7, 21, -8, 25, 10, 0, 28, -6, 1, 33, 18, 9, 2, -13, 43, -15, 4, 22, 38, -5, 13, 23, -11, 29, -20, 41, 31, -23, 35, 40, 14, 8, -18, 16, 36]\n",
    "print(\"1. Binary Search:\")\n",
    "print(bsearch(A, 11))\n",
    "\n",
    "#ordered Sequential Search\n",
    "A = [6, 19, -3, 5, 12, 7, 21, -8, 25, 10, 0, 28, -6, 1, 33, 18, 9, 2, -13, 43, -15, 4, 22, 38, -5, 13, 23, -11, 29, -20, 41, 31, -23, 35, 40, 14, 8, -18, 16, 36]\n",
    "print(\"2. ordered Sequential Search:\")\n",
    "print(orderedSequentialSearch(A, 11))\n",
    "\n",
    "#Sequential Search\n",
    "A = [6, 19, -3, 5, 12, 7, 21, -8, 25, 10, 0, 28, -6, 1, 33, 18, 9, 2, -13, 43, -15, 4, 22, 38, -5, 13, 23, -11, 29, -20, 41, 31, -23, 35, 40, 14, 8, -18, 16, 36]\n",
    "print(\"3. Sequential Search:\")\n",
    "print(linear_search(A, 11))"
   ]
  },
  {
   "cell_type": "markdown",
   "metadata": {},
   "source": [
    "**4. Using a random number generator, create a list of 50 integers and a list of 1000 integers. Perform a benchmark analysis using merge sort, quick sort, bubble sort and selection sort (algorithm are given) on each of the lists. For each list, what is the difference in execution speed between the different sorting techniques?**"
   ]
  },
  {
   "cell_type": "code",
   "execution_count": 166,
   "metadata": {},
   "outputs": [],
   "source": [
    "import time\n",
    "from merge_sort import merge_sort\n",
    "from bubblesort import bubblesort\n",
    "from selection_sort import selection_sort\n",
    "from insertion_sort import insertion_sort"
   ]
  },
  {
   "cell_type": "code",
   "execution_count": 167,
   "metadata": {},
   "outputs": [],
   "source": []
  },
  {
   "cell_type": "code",
   "execution_count": 173,
   "metadata": {},
   "outputs": [
    {
     "name": "stdout",
     "output_type": "stream",
     "text": [
      "Merge Sort Performance test:\n",
      "Sorted 50 random numbers in 0.000324249267578125\n",
      "Sorted 1000 random numbers in 0.010496854782104492\n",
      "\n",
      "Bubble Sort Performance test:\n",
      "Sorted 50 random numbers in 0.0003657341003417969\n",
      "Sorted 1000 random numbers in 0.16327881813049316\n",
      "\n",
      "Selection Sort Performance test:\n",
      "Sorted 50 random numbers in 0.00017333030700683594\n",
      "Sorted 1000 random numbers in 0.06825780868530273\n",
      "\n",
      "Insertion Sort Performance test:\n",
      "Sorted 50 random numbers in 0.00022292137145996094\n",
      "Sorted 1000 random numbers in 0.09097886085510254\n",
      "\n"
     ]
    }
   ],
   "source": [
    "for i in range(5):\n",
    "    if i == 1:\n",
    "        print(\"Merge Sort Performance test:\")\n",
    "        list1 = random.sample(range(1, 1000), 50)\n",
    "        list2 = random.sample(range(1, 2000), 1000)\n",
    "        #List 1\n",
    "        list1_start = time.time()\n",
    "        merge_sort(list1)\n",
    "        list1_end = time.time()\n",
    "        #List 2\n",
    "        list2_start = time.time()\n",
    "        merge_sort(list2)\n",
    "        list2_end = time.time()\n",
    "        print(\"Sorted 50 random numbers in \" + str(list1_end - list1_start))\n",
    "        print(\"Sorted 1000 random numbers in \" + str(list2_end - list2_start))\n",
    "        print(\"\")\n",
    "        \n",
    "    if i == 2:\n",
    "        print(\"Bubble Sort Performance test:\")\n",
    "        list1 = random.sample(range(1, 1000), 50)\n",
    "        list2 = random.sample(range(1, 2000), 1000)\n",
    "        #List 1\n",
    "        list1_start = time.time()\n",
    "        bubblesort(list1)\n",
    "        list1_end = time.time()\n",
    "        #List 2\n",
    "        list2_start = time.time()\n",
    "        bubblesort(list2)\n",
    "        list2_end = time.time()\n",
    "        print(\"Sorted 50 random numbers in \" + str(list1_end - list1_start))\n",
    "        print(\"Sorted 1000 random numbers in \" + str(list2_end - list2_start))\n",
    "        print(\"\")\n",
    "        \n",
    "    if i == 3:\n",
    "        print(\"Selection Sort Performance test:\")\n",
    "        list1 = random.sample(range(1, 1000), 50)\n",
    "        list2 = random.sample(range(1, 2000), 1000)\n",
    "        #List 1\n",
    "        list1_start = time.time()\n",
    "        selection_sort(list1)\n",
    "        list1_end = time.time()\n",
    "        #List 2\n",
    "        list2_start = time.time()\n",
    "        selection_sort(list2)\n",
    "        list2_end = time.time()\n",
    "        print(\"Sorted 50 random numbers in \" + str(list1_end - list1_start))\n",
    "        print(\"Sorted 1000 random numbers in \" + str(list2_end - list2_start))\n",
    "        print(\"\")\n",
    "        \n",
    "    if i == 4:\n",
    "        print(\"Insertion Sort Performance test:\")\n",
    "        list1 = random.sample(range(1, 1000), 50)\n",
    "        list2 = random.sample(range(1, 2000), 1000)\n",
    "        #List 1\n",
    "        list1_start = time.time()\n",
    "        insertion_sort(list1)\n",
    "        list1_end = time.time()\n",
    "        #List 2\n",
    "        list2_start = time.time()\n",
    "        insertion_sort(list2)\n",
    "        list2_end = time.time()\n",
    "        print(\"Sorted 50 random numbers in \" + str(list1_end - list1_start))\n",
    "        print(\"Sorted 1000 random numbers in \" + str(list2_end - list2_start))\n",
    "        print(\"\")"
   ]
  },
  {
   "cell_type": "code",
   "execution_count": null,
   "metadata": {},
   "outputs": [],
   "source": []
  }
 ],
 "metadata": {
  "kernelspec": {
   "display_name": "Python 3",
   "language": "python",
   "name": "python3"
  },
  "language_info": {
   "codemirror_mode": {
    "name": "ipython",
    "version": 3
   },
   "file_extension": ".py",
   "mimetype": "text/x-python",
   "name": "python",
   "nbconvert_exporter": "python",
   "pygments_lexer": "ipython3",
   "version": "3.6.7"
  }
 },
 "nbformat": 4,
 "nbformat_minor": 2
}
