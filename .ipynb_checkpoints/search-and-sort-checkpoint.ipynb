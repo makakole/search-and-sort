{
 "cells": [
  {
   "cell_type": "code",
   "execution_count": 90,
   "metadata": {},
   "outputs": [],
   "source": [
    "import numpy as np"
   ]
  },
  {
   "cell_type": "markdown",
   "metadata": {},
   "source": [
    "**1. Use the following sorted list of words to perform a binary search:**"
   ]
  },
  {
   "cell_type": "code",
   "execution_count": 91,
   "metadata": {},
   "outputs": [],
   "source": [
    "list = ['babka', 'baklava', 'cheesecake', 'cupcake', 'danish',\n",
    "        'eclair', 'funnelcake', 'kringle', 'lamington', 'profiterole',\n",
    "        'sopaipilla','strudel', 'tiramisu', 'torte', 'turnover']\n",
    "\n",
    "def find(L, target):\n",
    "    start = 0\n",
    "    end = len(L) - 1\n",
    "    sequence = []\n",
    "    print('Middle value sequence for ' +str(target))\n",
    "    while start <= end:\n",
    "        middle = (start + end)// 2\n",
    "        midpoint = L[middle]\n",
    "        \n",
    "        print('[' + str(middle) + '] ' + str(midpoint))\n",
    "        if midpoint > target:\n",
    "            end = middle - 1\n",
    "        elif midpoint < target:\n",
    "            start = middle + 1\n",
    "        else:\n",
    "            return sequence\n",
    "    return "
   ]
  },
  {
   "cell_type": "markdown",
   "metadata": {},
   "source": [
    "a) \tWhat sequence of 'middle' values are compared to the target when performing a binary search with target doughnut?"
   ]
  },
  {
   "cell_type": "code",
   "execution_count": 92,
   "metadata": {},
   "outputs": [
    {
     "name": "stdout",
     "output_type": "stream",
     "text": [
      "Middle value sequence for doughnut\n",
      "[7] kringle\n",
      "[3] cupcake\n",
      "[5] eclair\n",
      "[4] danish\n",
      "None\n"
     ]
    }
   ],
   "source": [
    "print(find(list, \"doughnut\"))"
   ]
  },
  {
   "cell_type": "markdown",
   "metadata": {},
   "source": [
    "b)\tWhat sequence of 'middle' values are compared to the target when performing a binary search with target tiramisu?"
   ]
  },
  {
   "cell_type": "code",
   "execution_count": 93,
   "metadata": {},
   "outputs": [
    {
     "name": "stdout",
     "output_type": "stream",
     "text": [
      "Middle value sequence for tiramisu\n",
      "[7] kringle\n",
      "[11] strudel\n",
      "[13] torte\n",
      "[12] tiramisu\n",
      "[]\n"
     ]
    }
   ],
   "source": [
    "print(find(list, \"tiramisu\"))"
   ]
  },
  {
   "cell_type": "markdown",
   "metadata": {},
   "source": [
    "**2. For the list below,**"
   ]
  },
  {
   "cell_type": "code",
   "execution_count": 94,
   "metadata": {},
   "outputs": [],
   "source": [
    "lis = [9, 20, 6, 10, 14, 8, 60, 11]\n",
    "ls = [9, 20, 6, 10, 14, 8, 60, 11]\n",
    "\n",
    "def b_sort(nums):\n",
    "    for i in range(len(nums) - 1, 0, -1):\n",
    "        for j in range(i):\n",
    "            if nums[j] > nums[j + 1]:\n",
    "                temp = nums[j]\n",
    "                nums[j] = nums[j + 1]\n",
    "                nums[j + 1] = temp\n",
    "                print('Swapping smaller value [' + str(nums[j]) + '] with bigger value [' + str(temp) + ']')\n",
    "                \n",
    "def sel_sort(nums):\n",
    "    for i in range(7):\n",
    "        minpos = i\n",
    "        for j in range(i,8):\n",
    "            if nums[j] < nums[minpos]:\n",
    "                minpos = j\n",
    "                \n",
    "        temp = nums[i]\n",
    "        nums[i] = nums[minpos]\n",
    "        nums[minpos] = temp\n",
    "        \n",
    "        print(nums)"
   ]
  },
  {
   "cell_type": "markdown",
   "metadata": {},
   "source": [
    "a) show the series of steps taken by the Bubble Sort algorithm while sorting this list."
   ]
  },
  {
   "cell_type": "code",
   "execution_count": 95,
   "metadata": {},
   "outputs": [
    {
     "name": "stdout",
     "output_type": "stream",
     "text": [
      "Swapping smaller value [6] with bigger value [20]\n",
      "Swapping smaller value [10] with bigger value [20]\n",
      "Swapping smaller value [14] with bigger value [20]\n",
      "Swapping smaller value [8] with bigger value [20]\n",
      "Swapping smaller value [11] with bigger value [60]\n",
      "Swapping smaller value [6] with bigger value [9]\n",
      "Swapping smaller value [8] with bigger value [14]\n",
      "Swapping smaller value [11] with bigger value [20]\n",
      "Swapping smaller value [8] with bigger value [10]\n",
      "Swapping smaller value [11] with bigger value [14]\n",
      "Swapping smaller value [8] with bigger value [9]\n",
      "[6, 8, 9, 10, 11, 14, 20, 60]\n"
     ]
    }
   ],
   "source": [
    "b_sort(lis)\n",
    "print(lis)"
   ]
  },
  {
   "cell_type": "markdown",
   "metadata": {},
   "source": [
    "b) show the series of steps taken by the Selection Sort algorithm while sorting this list."
   ]
  },
  {
   "cell_type": "code",
   "execution_count": 96,
   "metadata": {},
   "outputs": [
    {
     "name": "stdout",
     "output_type": "stream",
     "text": [
      "[6, 20, 9, 10, 14, 8, 60, 11]\n",
      "[6, 8, 9, 10, 14, 20, 60, 11]\n",
      "[6, 8, 9, 10, 14, 20, 60, 11]\n",
      "[6, 8, 9, 10, 14, 20, 60, 11]\n",
      "[6, 8, 9, 10, 11, 20, 60, 14]\n",
      "[6, 8, 9, 10, 11, 14, 60, 20]\n",
      "[6, 8, 9, 10, 11, 14, 20, 60]\n"
     ]
    }
   ],
   "source": [
    "sel_sort(ls)"
   ]
  },
  {
   "cell_type": "markdown",
   "metadata": {},
   "source": [
    "**3. The three search algorithms have varying run times, with the unsorted sequential search being the least efficient and the binary search being the most efficient (among the three).**"
   ]
  },
  {
   "cell_type": "markdown",
   "metadata": {},
   "source": [
    "a) Modify the code for the seq_search.py (for unsorted lists), seq_search_ordered.py and binary_search.py to count the number of elements checked during the search."
   ]
  },
  {
   "cell_type": "code",
   "execution_count": 99,
   "metadata": {},
   "outputs": [
    {
     "name": "stdout",
     "output_type": "stream",
     "text": [
      "(True, 4)\n",
      "(False, 7)\n"
     ]
    }
   ],
   "source": [
    "# Seq Search Modificatoion\n",
    "\n",
    "def linear_search(values, search_for):\n",
    "    search_at = 0\n",
    "    search_res = False\n",
    "    count = 0\n",
    "\n",
    "# Match the value with each data element\n",
    "    while search_at < len(values) and search_res is False:\n",
    "        if values[search_at] == search_for:\n",
    "            search_res = True\n",
    "        else:\n",
    "            search_at = search_at + 1\n",
    "        count += 1\n",
    "\n",
    "    return search_res, count\n",
    "\n",
    "list = [64, 34, 25, 12, 22, 11, 90]\n",
    "print(linear_search(list, 12)) #should return True\n",
    "print(linear_search(list, 91)) #should return False"
   ]
  },
  {
   "cell_type": "code",
   "execution_count": 102,
   "metadata": {},
   "outputs": [
    {
     "name": "stdout",
     "output_type": "stream",
     "text": [
      "(False, 4)\n",
      "(True, 5)\n"
     ]
    }
   ],
   "source": [
    "# Seq Search Ordered Modificatoion\n",
    "def orderedSequentialSearch(alist, item):\n",
    "    pos = 0\n",
    "    found = False\n",
    "    stop = False\n",
    "    count = 0\n",
    "\n",
    "    while pos < len(alist) and not found and not stop:\n",
    "        if alist[pos] == item:\n",
    "            found = True\n",
    "        else:\n",
    "            if alist[pos] > item:\n",
    "                stop = True\n",
    "            else:\n",
    "                pos = pos+1\n",
    "        count += 1\n",
    "\n",
    "    return found, count\n",
    "\n",
    "testlist = [0, 1, 2, 8, 13, 17, 19, 32, 42,]\n",
    "print(orderedSequentialSearch(testlist, 3)) #return False\n",
    "print(orderedSequentialSearch(testlist, 13)) #return True"
   ]
  },
  {
   "cell_type": "code",
   "execution_count": 110,
   "metadata": {},
   "outputs": [
    {
     "name": "stdout",
     "output_type": "stream",
     "text": [
      "(5, 3)\n",
      "('Not in list', 'Number of elements checked3')\n"
     ]
    }
   ],
   "source": [
    "#Binary Search Modification\n",
    "def bsearch(list, val):\n",
    "\n",
    "    list_size = len(list) - 1\n",
    "\n",
    "    idx0 = 0\n",
    "    idxn = list_size\n",
    "    count = 0\n",
    "# Find the middle most value\n",
    "\n",
    "    while idx0 <= idxn:\n",
    "        midval = (idx0 + idxn)// 2\n",
    "        count += 1\n",
    "\n",
    "        if list[midval] == val:\n",
    "            return midval, \"Number of elements checked = \" + str(count)\n",
    "\n",
    "    # Compare the value the middle most value\n",
    "        if val > list[midval]:\n",
    "            idx0 = midval + 1\n",
    "        else:\n",
    "            idxn = midval - 1\n",
    "\n",
    "    if idx0 > idxn:\n",
    "        return \"Not in list\", \"Number of elements checked = \" + str(count)\n",
    "    \n",
    "    \n",
    "# Initialize the sorted list\n",
    "list = [2,7,19,34,53,72]\n",
    "\n",
    "# Print the search result\n",
    "print(bsearch(list,72)) #should return index 5\n",
    "print(bsearch(list,11)) #should return Not in list"
   ]
  },
  {
   "cell_type": "markdown",
   "metadata": {},
   "source": [
    "b) Using your instrumented code for the three search algorithms, perform the following searches, and report the number of elements checked by each algorithm for each search (i.e. you will report nine results in total - for each of the 3 searches below, you will report the results from the 3 different search algorithms)."
   ]
  },
  {
   "cell_type": "code",
   "execution_count": null,
   "metadata": {},
   "outputs": [],
   "source": []
  }
 ],
 "metadata": {
  "kernelspec": {
   "display_name": "Python 3",
   "language": "python",
   "name": "python3"
  },
  "language_info": {
   "codemirror_mode": {
    "name": "ipython",
    "version": 3
   },
   "file_extension": ".py",
   "mimetype": "text/x-python",
   "name": "python",
   "nbconvert_exporter": "python",
   "pygments_lexer": "ipython3",
   "version": "3.6.7"
  }
 },
 "nbformat": 4,
 "nbformat_minor": 2
}
